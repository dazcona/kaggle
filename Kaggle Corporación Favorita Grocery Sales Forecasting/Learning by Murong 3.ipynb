{
 "cells": [
  {
   "cell_type": "code",
   "execution_count": 1,
   "metadata": {
    "collapsed": true
   },
   "outputs": [],
   "source": [
    "import numpy as np \n",
    "import pandas as pd\n",
    "import matplotlib.pyplot as plt "
   ]
  },
  {
   "cell_type": "markdown",
   "metadata": {},
   "source": [
    "### Hypothesese: \n",
    "1) sales and oil prices have inverse relationship <br>\n",
    "2) local holidays will affect prices for local grocery stores <br>\n",
    "3) onpromotion and unit sales are positively correlated <br>\n",
    "### Questions\n",
    "1) is there a correlation between onpromotion and perishable? <br>\n",
    "2) create classification for onpromotion -- use true and false values to predict null values "
   ]
  },
  {
   "cell_type": "code",
   "execution_count": 2,
   "metadata": {
    "collapsed": false
   },
   "outputs": [
    {
     "name": "stderr",
     "output_type": "stream",
     "text": [
      "/Users/muronghe/anaconda/lib/python3.5/site-packages/IPython/core/interactiveshell.py:2717: DtypeWarning: Columns (5) have mixed types. Specify dtype option on import or set low_memory=False.\n",
      "  interactivity=interactivity, compiler=compiler, result=result)\n"
     ]
    }
   ],
   "source": [
    "# Import Data\n",
    "train = pd.read_csv('train-1.csv')\n",
    "holiday_events = pd.read_csv('holidays_events.csv')\n",
    "items = pd.read_csv('items.csv')\n",
    "oil = pd.read_csv('oil.csv')\n",
    "stores = pd.read_csv('stores.csv')\n",
    "transactions = pd.read_csv('transactions.csv')\n",
    "\n",
    "test = pd.read_csv('test-1.csv')\n",
    "sample_submission = pd.read_csv('sample_submission-1.csv')"
   ]
  },
  {
   "cell_type": "code",
   "execution_count": 3,
   "metadata": {
    "collapsed": false
   },
   "outputs": [
    {
     "data": {
      "text/html": [
       "<div>\n",
       "<table border=\"1\" class=\"dataframe\">\n",
       "  <thead>\n",
       "    <tr style=\"text-align: right;\">\n",
       "      <th></th>\n",
       "      <th>id</th>\n",
       "      <th>date</th>\n",
       "      <th>store_nbr</th>\n",
       "      <th>item_nbr</th>\n",
       "      <th>unit_sales</th>\n",
       "      <th>onpromotion</th>\n",
       "    </tr>\n",
       "  </thead>\n",
       "  <tbody>\n",
       "    <tr>\n",
       "      <th>0</th>\n",
       "      <td>0</td>\n",
       "      <td>2013-01-01</td>\n",
       "      <td>25</td>\n",
       "      <td>103665</td>\n",
       "      <td>7.0</td>\n",
       "      <td>NaN</td>\n",
       "    </tr>\n",
       "    <tr>\n",
       "      <th>1</th>\n",
       "      <td>1</td>\n",
       "      <td>2013-01-01</td>\n",
       "      <td>25</td>\n",
       "      <td>105574</td>\n",
       "      <td>1.0</td>\n",
       "      <td>NaN</td>\n",
       "    </tr>\n",
       "    <tr>\n",
       "      <th>2</th>\n",
       "      <td>2</td>\n",
       "      <td>2013-01-01</td>\n",
       "      <td>25</td>\n",
       "      <td>105575</td>\n",
       "      <td>2.0</td>\n",
       "      <td>NaN</td>\n",
       "    </tr>\n",
       "    <tr>\n",
       "      <th>3</th>\n",
       "      <td>3</td>\n",
       "      <td>2013-01-01</td>\n",
       "      <td>25</td>\n",
       "      <td>108079</td>\n",
       "      <td>1.0</td>\n",
       "      <td>NaN</td>\n",
       "    </tr>\n",
       "    <tr>\n",
       "      <th>4</th>\n",
       "      <td>4</td>\n",
       "      <td>2013-01-01</td>\n",
       "      <td>25</td>\n",
       "      <td>108701</td>\n",
       "      <td>1.0</td>\n",
       "      <td>NaN</td>\n",
       "    </tr>\n",
       "  </tbody>\n",
       "</table>\n",
       "</div>"
      ],
      "text/plain": [
       "   id        date  store_nbr  item_nbr  unit_sales onpromotion\n",
       "0   0  2013-01-01         25    103665         7.0         NaN\n",
       "1   1  2013-01-01         25    105574         1.0         NaN\n",
       "2   2  2013-01-01         25    105575         2.0         NaN\n",
       "3   3  2013-01-01         25    108079         1.0         NaN\n",
       "4   4  2013-01-01         25    108701         1.0         NaN"
      ]
     },
     "execution_count": 3,
     "metadata": {},
     "output_type": "execute_result"
    }
   ],
   "source": [
    "train.subset = train.subset('')"
   ]
  },
  {
   "cell_type": "markdown",
   "metadata": {},
   "source": [
    "### Create subset of Training Data"
   ]
  },
  {
   "cell_type": "code",
   "execution_count": 4,
   "metadata": {
    "collapsed": true
   },
   "outputs": [],
   "source": [
    "#create copy of training data \n",
    "train_original = train"
   ]
  },
  {
   "cell_type": "code",
   "execution_count": 6,
   "metadata": {
    "collapsed": false
   },
   "outputs": [],
   "source": [
    "#convert date to datetime\n",
    "train.loc[:,'date']  = pd.to_datetime(train.loc[:,'date'])"
   ]
  },
  {
   "cell_type": "code",
   "execution_count": 8,
   "metadata": {
    "collapsed": false,
    "scrolled": true
   },
   "outputs": [],
   "source": [
    "#Create subset of training data (for 2016)\n",
    "train = train[train.date.dt.year==2016]"
   ]
  },
  {
   "cell_type": "code",
   "execution_count": 9,
   "metadata": {
    "collapsed": false
   },
   "outputs": [
    {
     "data": {
      "text/plain": [
       "(35229871, 6)"
      ]
     },
     "execution_count": 9,
     "metadata": {},
     "output_type": "execute_result"
    }
   ],
   "source": [
    "#total data in training set \n",
    "train.shape"
   ]
  },
  {
   "cell_type": "markdown",
   "metadata": {},
   "source": [
    "## Data Exploration "
   ]
  },
  {
   "cell_type": "markdown",
   "metadata": {},
   "source": [
    "## 6 tables:\n",
    "#### 1) train \n",
    "id<br>\n",
    "date<br>\n",
    "store_nbr<br>\n",
    "item_nbr <br>\n",
    "unit_sales <br>\n",
    "onpromotion <br>\n",
    "\n",
    "#### 2) oil \n",
    "date <br>\n",
    "dcoilwticol <br>\n",
    "\n",
    "#### 3) holidays_events\n",
    "date<br>\n",
    "type<br>\n",
    "locale<br>\n",
    "locale_name<br>\n",
    "description<br>\n",
    "transferred<br>\n",
    "\n",
    "#### 4) items\n",
    "item_nbr<br>\n",
    "family<br>\n",
    "class<br>\n",
    "perishable<br>\n",
    "\n",
    "#### 5) transactions\n",
    "date<br>\n",
    "store_nbr<br>\n",
    "transactions<br>\n",
    "\n",
    "#### 6) stores\n",
    "store_nbr<br>\n",
    "city<br>\n",
    "state<br>\n",
    "type<br>\n",
    "cluster<br>"
   ]
  },
  {
   "cell_type": "code",
   "execution_count": 7,
   "metadata": {
    "collapsed": false
   },
   "outputs": [
    {
     "data": {
      "text/plain": [
       "False    96028767\n",
       "NaN      21657651\n",
       "True      7810622\n",
       "Name: onpromotion, dtype: int64"
      ]
     },
     "execution_count": 7,
     "metadata": {},
     "output_type": "execute_result"
    }
   ],
   "source": [
    "# onpromotion count in train dataset -- there are many null values\n",
    "train['onpromotion'].value_counts(dropna = False)"
   ]
  },
  {
   "cell_type": "code",
   "execution_count": 10,
   "metadata": {
    "collapsed": false,
    "scrolled": true
   },
   "outputs": [
    {
     "data": {
      "text/html": [
       "<div>\n",
       "<table border=\"1\" class=\"dataframe\">\n",
       "  <thead>\n",
       "    <tr style=\"text-align: right;\">\n",
       "      <th></th>\n",
       "      <th>id</th>\n",
       "      <th>date</th>\n",
       "      <th>store_nbr</th>\n",
       "      <th>item_nbr</th>\n",
       "      <th>unit_sales</th>\n",
       "      <th>onpromotion</th>\n",
       "    </tr>\n",
       "  </thead>\n",
       "  <tbody>\n",
       "  </tbody>\n",
       "</table>\n",
       "</div>"
      ],
      "text/plain": [
       "Empty DataFrame\n",
       "Columns: [id, date, store_nbr, item_nbr, unit_sales, onpromotion]\n",
       "Index: []"
      ]
     },
     "execution_count": 10,
     "metadata": {},
     "output_type": "execute_result"
    }
   ],
   "source": [
    "# where do the null values in the training dataset fall? \n",
    "train[train['onpromotion'].isnull()].groupby(train.date.dt.year, as_index = False).count()"
   ]
  },
  {
   "cell_type": "code",
   "execution_count": null,
   "metadata": {
    "collapsed": false
   },
   "outputs": [],
   "source": [
    "# onpromotion count in test dataset -- there are no null values\n",
    "test['onpromotion'].value_counts(dropna=False)"
   ]
  },
  {
   "cell_type": "code",
   "execution_count": null,
   "metadata": {
    "collapsed": false
   },
   "outputs": [],
   "source": [
    "#groupby training data \n",
    "train_groupbydate = train.groupby('date', as_index=False).sum()\n",
    "train_groupbydate = train_groupbydate.sort_values('date', ascending = True)"
   ]
  },
  {
   "cell_type": "code",
   "execution_count": null,
   "metadata": {
    "collapsed": false
   },
   "outputs": [],
   "source": [
    "#plot total unit sales by date\n",
    "fig = plt.plot(train_groupbydate['date'],train_groupbydate['unit_sales'])\n",
    "plt.show()"
   ]
  },
  {
   "cell_type": "code",
   "execution_count": null,
   "metadata": {
    "collapsed": false
   },
   "outputs": [],
   "source": [
    "#holiday types\n",
    "holiday_events['type'].value_counts() "
   ]
  },
  {
   "cell_type": "code",
   "execution_count": null,
   "metadata": {
    "collapsed": false
   },
   "outputs": [],
   "source": [
    "#number unique states -- there are 24 states in ecuador -- not all are in this dataset\n",
    "len(stores['state'].unique())"
   ]
  },
  {
   "cell_type": "code",
   "execution_count": null,
   "metadata": {
    "collapsed": false
   },
   "outputs": [],
   "source": [
    "#count of states\n",
    "stores.groupby(['state'])['state'].count()"
   ]
  },
  {
   "cell_type": "code",
   "execution_count": null,
   "metadata": {
    "collapsed": false
   },
   "outputs": [],
   "source": [
    "stores['state'].value_counts()"
   ]
  },
  {
   "cell_type": "markdown",
   "metadata": {},
   "source": [
    "### Dates \n",
    "Training dataset is from 1/1/2013 - 8/15/2017 <br>\n",
    "Test dataset is from 8/16/2017 - 8/31/2017 <br>\n",
    "Oil data is from 1/1/2013 - 8/31/2017 <br>\n",
    "Transaction data is from 1/1/2013 - 8/15/2017 <br>\n",
    "Holiday events is from 3/2/2012 - 12/26/2017"
   ]
  },
  {
   "cell_type": "code",
   "execution_count": null,
   "metadata": {
    "collapsed": false
   },
   "outputs": [],
   "source": [
    "print(train.date.min())\n",
    "print(train.date.max())"
   ]
  },
  {
   "cell_type": "code",
   "execution_count": null,
   "metadata": {
    "collapsed": false
   },
   "outputs": [],
   "source": [
    "print(test.date.min())\n",
    "print(test.date.max())"
   ]
  },
  {
   "cell_type": "code",
   "execution_count": null,
   "metadata": {
    "collapsed": false
   },
   "outputs": [],
   "source": [
    "print(oil.date.min())\n",
    "print(oil.date.max())"
   ]
  },
  {
   "cell_type": "code",
   "execution_count": null,
   "metadata": {
    "collapsed": false
   },
   "outputs": [],
   "source": [
    "print(transactions.date.min())\n",
    "print(transactions.date.max())"
   ]
  },
  {
   "cell_type": "code",
   "execution_count": null,
   "metadata": {
    "collapsed": false
   },
   "outputs": [],
   "source": [
    "print(holiday_events.date.min())\n",
    "print(holiday_events.date.max())"
   ]
  },
  {
   "cell_type": "code",
   "execution_count": null,
   "metadata": {
    "collapsed": false
   },
   "outputs": [],
   "source": [
    "# Store Types\n",
    "stores.groupby(['type'])['type'].count()"
   ]
  },
  {
   "cell_type": "code",
   "execution_count": null,
   "metadata": {
    "collapsed": false,
    "scrolled": true
   },
   "outputs": [],
   "source": [
    "items.groupby(['family'])['family'].count()"
   ]
  },
  {
   "cell_type": "code",
   "execution_count": null,
   "metadata": {
    "collapsed": false,
    "scrolled": false
   },
   "outputs": [],
   "source": [
    "# Plot of items.family\n",
    "k = items.groupby(['family'])['family'].count()\n",
    "k.plot.bar(\n",
    "    subplots = True, x = items['family'], figsize = (10,5), legend = None)\n",
    "plt.show()"
   ]
  },
  {
   "cell_type": "markdown",
   "metadata": {
    "collapsed": false
   },
   "source": [
    "### Row Counts"
   ]
  },
  {
   "cell_type": "code",
   "execution_count": null,
   "metadata": {
    "collapsed": false
   },
   "outputs": [],
   "source": [
    "print(len(transactions))\n",
    "print(len(stores))\n",
    "print(len(holiday_events))\n",
    "print(len(oil))\n",
    "print(len(items))\n",
    "print(len(train))"
   ]
  },
  {
   "cell_type": "markdown",
   "metadata": {},
   "source": [
    "# Convert Dates to DateTime"
   ]
  },
  {
   "cell_type": "code",
   "execution_count": 6,
   "metadata": {
    "collapsed": true
   },
   "outputs": [],
   "source": [
    "#Change Date to datetime\n",
    "def convert_date(table):\n",
    "    table['date'] = pd.to_datetime(table['date'])"
   ]
  },
  {
   "cell_type": "code",
   "execution_count": null,
   "metadata": {
    "collapsed": false
   },
   "outputs": [],
   "source": [
    "convert_date(transactions)\n",
    "convert_date(oil)\n",
    "convert_date(holiday_events)\n",
    "convert_date(train)\n",
    "convert_date(test)"
   ]
  },
  {
   "cell_type": "markdown",
   "metadata": {
    "collapsed": false
   },
   "source": [
    "# Merge Tables"
   ]
  },
  {
   "cell_type": "code",
   "execution_count": 15,
   "metadata": {
    "collapsed": false,
    "scrolled": true
   },
   "outputs": [],
   "source": [
    "#merge tables \n",
    "def merge_all_columns(train_test,transactions,oil,holiday_events,items,stores):\n",
    "    #merge train/test with transactions\n",
    "    merged_df = train_test.merge(transactions, how = 'left', left_on = [train_test['date'],\n",
    "                                                               train_test['store_nbr']], \n",
    "                        right_on = [transactions['date'],transactions['store_nbr']])\n",
    "    #merge with oil data\n",
    "    merged_df = merged_df.merge(oil, how='left', left_on = merged_df['date_x'], \n",
    "                            right_on = oil['date'])\n",
    "    #merge with holiday_events\n",
    "    merged_df = merged_df.merge(holiday_events, how = 'left', left_on = merged_df['date_x'],\n",
    "                           right_on = holiday_events['date'])\n",
    "    #merge with items\n",
    "    merged_df = merged_df.merge(items, how = 'left',left_on = merged_df['item_nbr'],\n",
    "                           right_on = items['item_nbr'])\n",
    "    #merge with stores \n",
    "    merged_df = merged_df.merge(stores, how = 'left', left_on = merged_df['store_nbr_x'],\n",
    "                           right_on = stores['store_nbr'])\n",
    "    #drop non-unique columns\n",
    "    _, i = np.unique(merged_df.columns, return_index = True)\n",
    "    merged_df = merged_df.iloc[:,i]\n",
    "    \n",
    "    #drop duplicate columns with different ending \n",
    "    merged_df = merged_df.drop(['date_y','item_nbr_y','store_nbr_x','store_nbr_y','type_y',\n",
    "                            'description'], axis=1)\n",
    "    \n",
    "    return merged_df"
   ]
  },
  {
   "cell_type": "markdown",
   "metadata": {},
   "source": [
    "# Data Preprocessing"
   ]
  },
  {
   "cell_type": "code",
   "execution_count": 16,
   "metadata": {
    "collapsed": false,
    "scrolled": true
   },
   "outputs": [],
   "source": [
    "#merge train and test data\n",
    "merged_df_train = merge_all_columns(train,transactions,oil,holiday_events,items,stores)\n",
    "merged_df_test = merge_all_columns(test,transactions,oil,holiday_events,items,stores)"
   ]
  },
  {
   "cell_type": "code",
   "execution_count": null,
   "metadata": {
    "collapsed": false
   },
   "outputs": [],
   "source": [
    "#convert dates to ordinal values \n",
    "merged_df_train.date = merged_df_train.date.apply(lambda x: x.toordinal())\n",
    "merged_df_test.date = merged_df_test.date.apply(lambda x: x.toordinal())"
   ]
  },
  {
   "cell_type": "code",
   "execution_count": 18,
   "metadata": {
    "collapsed": false
   },
   "outputs": [],
   "source": [
    "#function to create dummy variables from 'Family' column \n",
    "def create_dummies(table,column):\n",
    "    old_table = table\n",
    "    X_dummies = pd.get_dummies(column).iloc[:,1:]\n",
    "    table = pd.concat([table,X_dummies],axis=1)\n",
    "    return table"
   ]
  },
  {
   "cell_type": "code",
   "execution_count": 19,
   "metadata": {
    "collapsed": false
   },
   "outputs": [],
   "source": [
    "#Merge Train and Test Data \n",
    "merged_df_train = create_dummies(merged_df_train,merged_df_train.family)\n",
    "merged_df_train = merged_df_train.drop(['family'],axis=1)\n",
    "merged_df_test = create_dummies(merged_df_test,merged_df_test.family)\n",
    "merged_df_test = merged_df_test.drop(['family'],axis=1)"
   ]
  },
  {
   "cell_type": "code",
   "execution_count": 77,
   "metadata": {
    "collapsed": true
   },
   "outputs": [],
   "source": [
    "#temp -- training data with no joins \n",
    "merged_df_train = train \n",
    "merged_df_test = test"
   ]
  },
  {
   "cell_type": "code",
   "execution_count": 9,
   "metadata": {
    "collapsed": false
   },
   "outputs": [],
   "source": [
    "#set train id as index \n",
    "merged_df_test = merged_df_test.set_index('id',inplace=False)\n",
    "merged_df_train = merged_df_train.set_index('id',inplace=False)"
   ]
  },
  {
   "cell_type": "code",
   "execution_count": 92,
   "metadata": {
    "collapsed": false
   },
   "outputs": [],
   "source": [
    "merged_df_test.date = merged_df_test.date.apply(lambda x: x.toordinal())"
   ]
  },
  {
   "cell_type": "code",
   "execution_count": null,
   "metadata": {
    "collapsed": false
   },
   "outputs": [],
   "source": []
  },
  {
   "cell_type": "code",
   "execution_count": null,
   "metadata": {
    "collapsed": false
   },
   "outputs": [],
   "source": []
  },
  {
   "cell_type": "markdown",
   "metadata": {},
   "source": [
    "## Split Training Data"
   ]
  },
  {
   "cell_type": "code",
   "execution_count": 94,
   "metadata": {
    "collapsed": false
   },
   "outputs": [],
   "source": [
    "#Split into X and y values \n",
    "y = merged_df_train['unit_sales']\n",
    "X = merged_df_train.loc[:,merged_df_train.columns != 'unit_sales']"
   ]
  },
  {
   "cell_type": "code",
   "execution_count": 95,
   "metadata": {
    "collapsed": false
   },
   "outputs": [],
   "source": [
    "#temp -- drop non-date values\n",
    "X = X.drop(['id','store_nbr','item_nbr','onpromotion'],axis=1)\n",
    "merged_df_test = merged_df_test.drop(['id','store_nbr','item_nbr','onpromotion'],axis=1)"
   ]
  },
  {
   "cell_type": "code",
   "execution_count": 26,
   "metadata": {
    "collapsed": true
   },
   "outputs": [],
   "source": [
    "#temp -- conver date to ordinal and drop non-date values\n",
    "merged_df_test.date = merged_df_test.date.apply(lambda x: x.toordinal())\n",
    "merged_df_test = merged_df_test.drop(['store_nbr','item_nbr','onpromotion'],axis=1)"
   ]
  },
  {
   "cell_type": "code",
   "execution_count": null,
   "metadata": {
    "collapsed": false
   },
   "outputs": [],
   "source": [
    "#drop values not currently in use\n",
    "X = X.drop(['city','class','item_nbr_x','store_nbr','locale_name','locale',\n",
    "           'state','cluster','type_x','dcoilwtico','onpromotion','transactions','transferred']\n",
    "           ,axis=1)"
   ]
  },
  {
   "cell_type": "code",
   "execution_count": null,
   "metadata": {
    "collapsed": false
   },
   "outputs": [],
   "source": [
    "merged_df_test = merged_df_test.drop(['city','class','item_nbr_x','store_nbr','locale_name','locale',\n",
    "           'state','cluster','type_x','dcoilwtico','onpromotion','transactions','transferred']\n",
    "           ,axis=1)"
   ]
  },
  {
   "cell_type": "markdown",
   "metadata": {},
   "source": [
    "# Apply Algorithms"
   ]
  },
  {
   "cell_type": "code",
   "execution_count": 19,
   "metadata": {
    "collapsed": false
   },
   "outputs": [],
   "source": [
    "from sklearn.tree import DecisionTreeRegressor\n",
    "from sklearn.model_selection import train_test_split"
   ]
  },
  {
   "cell_type": "code",
   "execution_count": 97,
   "metadata": {
    "collapsed": false
   },
   "outputs": [],
   "source": [
    "dt = DecisionTreeRegressor(random_state = 0)\n",
    "X_train,X_test,y_train,y_test = train_test_split(X,y,test_size=0.75,random_state=0)"
   ]
  },
  {
   "cell_type": "code",
   "execution_count": null,
   "metadata": {
    "collapsed": false,
    "scrolled": true
   },
   "outputs": [],
   "source": []
  },
  {
   "cell_type": "code",
   "execution_count": 98,
   "metadata": {
    "collapsed": false
   },
   "outputs": [
    {
     "data": {
      "text/plain": [
       "DecisionTreeRegressor(criterion='mse', max_depth=None, max_features=None,\n",
       "           max_leaf_nodes=None, min_impurity_split=1e-07,\n",
       "           min_samples_leaf=1, min_samples_split=2,\n",
       "           min_weight_fraction_leaf=0.0, presort=False, random_state=0,\n",
       "           splitter='best')"
      ]
     },
     "execution_count": 98,
     "metadata": {},
     "output_type": "execute_result"
    }
   ],
   "source": [
    "dt.fit(X_train,y_train)"
   ]
  },
  {
   "cell_type": "code",
   "execution_count": 99,
   "metadata": {
    "collapsed": true
   },
   "outputs": [],
   "source": [
    "#predict validations set \n",
    "y_pred = dt.predict(X_test)"
   ]
  },
  {
   "cell_type": "code",
   "execution_count": 23,
   "metadata": {
    "collapsed": false
   },
   "outputs": [
    {
     "data": {
      "text/plain": [
       "Index(['date'], dtype='object')"
      ]
     },
     "execution_count": 23,
     "metadata": {},
     "output_type": "execute_result"
    }
   ],
   "source": [
    "X_test.columns"
   ]
  },
  {
   "cell_type": "code",
   "execution_count": null,
   "metadata": {
    "collapsed": false
   },
   "outputs": [],
   "source": [
    "merged_df_test.columns"
   ]
  },
  {
   "cell_type": "code",
   "execution_count": null,
   "metadata": {
    "collapsed": false,
    "scrolled": true
   },
   "outputs": [],
   "source": [
    "pd.DataFrame(y_pred)"
   ]
  },
  {
   "cell_type": "code",
   "execution_count": null,
   "metadata": {
    "collapsed": true
   },
   "outputs": [],
   "source": []
  },
  {
   "cell_type": "code",
   "execution_count": null,
   "metadata": {
    "collapsed": false,
    "scrolled": true
   },
   "outputs": [],
   "source": []
  },
  {
   "cell_type": "code",
   "execution_count": 103,
   "metadata": {
    "collapsed": false
   },
   "outputs": [],
   "source": [
    "#predict testset \n",
    "y_pred_testset = dt.predict(merged_df_test)"
   ]
  },
  {
   "cell_type": "code",
   "execution_count": 105,
   "metadata": {
    "collapsed": false,
    "scrolled": true
   },
   "outputs": [
    {
     "data": {
      "text/html": [
       "<div>\n",
       "<table border=\"1\" class=\"dataframe\">\n",
       "  <thead>\n",
       "    <tr style=\"text-align: right;\">\n",
       "      <th></th>\n",
       "      <th>0</th>\n",
       "    </tr>\n",
       "  </thead>\n",
       "  <tbody>\n",
       "    <tr>\n",
       "      <th>0</th>\n",
       "      <td>10.318517</td>\n",
       "    </tr>\n",
       "    <tr>\n",
       "      <th>1</th>\n",
       "      <td>10.318517</td>\n",
       "    </tr>\n",
       "    <tr>\n",
       "      <th>2</th>\n",
       "      <td>10.318517</td>\n",
       "    </tr>\n",
       "    <tr>\n",
       "      <th>3</th>\n",
       "      <td>10.318517</td>\n",
       "    </tr>\n",
       "    <tr>\n",
       "      <th>4</th>\n",
       "      <td>10.318517</td>\n",
       "    </tr>\n",
       "    <tr>\n",
       "      <th>5</th>\n",
       "      <td>10.318517</td>\n",
       "    </tr>\n",
       "    <tr>\n",
       "      <th>6</th>\n",
       "      <td>10.318517</td>\n",
       "    </tr>\n",
       "    <tr>\n",
       "      <th>7</th>\n",
       "      <td>10.318517</td>\n",
       "    </tr>\n",
       "    <tr>\n",
       "      <th>8</th>\n",
       "      <td>10.318517</td>\n",
       "    </tr>\n",
       "    <tr>\n",
       "      <th>9</th>\n",
       "      <td>10.318517</td>\n",
       "    </tr>\n",
       "    <tr>\n",
       "      <th>10</th>\n",
       "      <td>10.318517</td>\n",
       "    </tr>\n",
       "    <tr>\n",
       "      <th>11</th>\n",
       "      <td>10.318517</td>\n",
       "    </tr>\n",
       "    <tr>\n",
       "      <th>12</th>\n",
       "      <td>10.318517</td>\n",
       "    </tr>\n",
       "    <tr>\n",
       "      <th>13</th>\n",
       "      <td>10.318517</td>\n",
       "    </tr>\n",
       "    <tr>\n",
       "      <th>14</th>\n",
       "      <td>10.318517</td>\n",
       "    </tr>\n",
       "    <tr>\n",
       "      <th>15</th>\n",
       "      <td>10.318517</td>\n",
       "    </tr>\n",
       "    <tr>\n",
       "      <th>16</th>\n",
       "      <td>10.318517</td>\n",
       "    </tr>\n",
       "    <tr>\n",
       "      <th>17</th>\n",
       "      <td>10.318517</td>\n",
       "    </tr>\n",
       "    <tr>\n",
       "      <th>18</th>\n",
       "      <td>10.318517</td>\n",
       "    </tr>\n",
       "    <tr>\n",
       "      <th>19</th>\n",
       "      <td>10.318517</td>\n",
       "    </tr>\n",
       "    <tr>\n",
       "      <th>20</th>\n",
       "      <td>10.318517</td>\n",
       "    </tr>\n",
       "    <tr>\n",
       "      <th>21</th>\n",
       "      <td>10.318517</td>\n",
       "    </tr>\n",
       "    <tr>\n",
       "      <th>22</th>\n",
       "      <td>10.318517</td>\n",
       "    </tr>\n",
       "    <tr>\n",
       "      <th>23</th>\n",
       "      <td>10.318517</td>\n",
       "    </tr>\n",
       "    <tr>\n",
       "      <th>24</th>\n",
       "      <td>10.318517</td>\n",
       "    </tr>\n",
       "    <tr>\n",
       "      <th>25</th>\n",
       "      <td>10.318517</td>\n",
       "    </tr>\n",
       "    <tr>\n",
       "      <th>26</th>\n",
       "      <td>10.318517</td>\n",
       "    </tr>\n",
       "    <tr>\n",
       "      <th>27</th>\n",
       "      <td>10.318517</td>\n",
       "    </tr>\n",
       "    <tr>\n",
       "      <th>28</th>\n",
       "      <td>10.318517</td>\n",
       "    </tr>\n",
       "    <tr>\n",
       "      <th>29</th>\n",
       "      <td>10.318517</td>\n",
       "    </tr>\n",
       "    <tr>\n",
       "      <th>...</th>\n",
       "      <td>...</td>\n",
       "    </tr>\n",
       "    <tr>\n",
       "      <th>3370434</th>\n",
       "      <td>10.318517</td>\n",
       "    </tr>\n",
       "    <tr>\n",
       "      <th>3370435</th>\n",
       "      <td>10.318517</td>\n",
       "    </tr>\n",
       "    <tr>\n",
       "      <th>3370436</th>\n",
       "      <td>10.318517</td>\n",
       "    </tr>\n",
       "    <tr>\n",
       "      <th>3370437</th>\n",
       "      <td>10.318517</td>\n",
       "    </tr>\n",
       "    <tr>\n",
       "      <th>3370438</th>\n",
       "      <td>10.318517</td>\n",
       "    </tr>\n",
       "    <tr>\n",
       "      <th>3370439</th>\n",
       "      <td>10.318517</td>\n",
       "    </tr>\n",
       "    <tr>\n",
       "      <th>3370440</th>\n",
       "      <td>10.318517</td>\n",
       "    </tr>\n",
       "    <tr>\n",
       "      <th>3370441</th>\n",
       "      <td>10.318517</td>\n",
       "    </tr>\n",
       "    <tr>\n",
       "      <th>3370442</th>\n",
       "      <td>10.318517</td>\n",
       "    </tr>\n",
       "    <tr>\n",
       "      <th>3370443</th>\n",
       "      <td>10.318517</td>\n",
       "    </tr>\n",
       "    <tr>\n",
       "      <th>3370444</th>\n",
       "      <td>10.318517</td>\n",
       "    </tr>\n",
       "    <tr>\n",
       "      <th>3370445</th>\n",
       "      <td>10.318517</td>\n",
       "    </tr>\n",
       "    <tr>\n",
       "      <th>3370446</th>\n",
       "      <td>10.318517</td>\n",
       "    </tr>\n",
       "    <tr>\n",
       "      <th>3370447</th>\n",
       "      <td>10.318517</td>\n",
       "    </tr>\n",
       "    <tr>\n",
       "      <th>3370448</th>\n",
       "      <td>10.318517</td>\n",
       "    </tr>\n",
       "    <tr>\n",
       "      <th>3370449</th>\n",
       "      <td>10.318517</td>\n",
       "    </tr>\n",
       "    <tr>\n",
       "      <th>3370450</th>\n",
       "      <td>10.318517</td>\n",
       "    </tr>\n",
       "    <tr>\n",
       "      <th>3370451</th>\n",
       "      <td>10.318517</td>\n",
       "    </tr>\n",
       "    <tr>\n",
       "      <th>3370452</th>\n",
       "      <td>10.318517</td>\n",
       "    </tr>\n",
       "    <tr>\n",
       "      <th>3370453</th>\n",
       "      <td>10.318517</td>\n",
       "    </tr>\n",
       "    <tr>\n",
       "      <th>3370454</th>\n",
       "      <td>10.318517</td>\n",
       "    </tr>\n",
       "    <tr>\n",
       "      <th>3370455</th>\n",
       "      <td>10.318517</td>\n",
       "    </tr>\n",
       "    <tr>\n",
       "      <th>3370456</th>\n",
       "      <td>10.318517</td>\n",
       "    </tr>\n",
       "    <tr>\n",
       "      <th>3370457</th>\n",
       "      <td>10.318517</td>\n",
       "    </tr>\n",
       "    <tr>\n",
       "      <th>3370458</th>\n",
       "      <td>10.318517</td>\n",
       "    </tr>\n",
       "    <tr>\n",
       "      <th>3370459</th>\n",
       "      <td>10.318517</td>\n",
       "    </tr>\n",
       "    <tr>\n",
       "      <th>3370460</th>\n",
       "      <td>10.318517</td>\n",
       "    </tr>\n",
       "    <tr>\n",
       "      <th>3370461</th>\n",
       "      <td>10.318517</td>\n",
       "    </tr>\n",
       "    <tr>\n",
       "      <th>3370462</th>\n",
       "      <td>10.318517</td>\n",
       "    </tr>\n",
       "    <tr>\n",
       "      <th>3370463</th>\n",
       "      <td>10.318517</td>\n",
       "    </tr>\n",
       "  </tbody>\n",
       "</table>\n",
       "<p>3370464 rows × 1 columns</p>\n",
       "</div>"
      ],
      "text/plain": [
       "                 0\n",
       "0        10.318517\n",
       "1        10.318517\n",
       "2        10.318517\n",
       "3        10.318517\n",
       "4        10.318517\n",
       "5        10.318517\n",
       "6        10.318517\n",
       "7        10.318517\n",
       "8        10.318517\n",
       "9        10.318517\n",
       "10       10.318517\n",
       "11       10.318517\n",
       "12       10.318517\n",
       "13       10.318517\n",
       "14       10.318517\n",
       "15       10.318517\n",
       "16       10.318517\n",
       "17       10.318517\n",
       "18       10.318517\n",
       "19       10.318517\n",
       "20       10.318517\n",
       "21       10.318517\n",
       "22       10.318517\n",
       "23       10.318517\n",
       "24       10.318517\n",
       "25       10.318517\n",
       "26       10.318517\n",
       "27       10.318517\n",
       "28       10.318517\n",
       "29       10.318517\n",
       "...            ...\n",
       "3370434  10.318517\n",
       "3370435  10.318517\n",
       "3370436  10.318517\n",
       "3370437  10.318517\n",
       "3370438  10.318517\n",
       "3370439  10.318517\n",
       "3370440  10.318517\n",
       "3370441  10.318517\n",
       "3370442  10.318517\n",
       "3370443  10.318517\n",
       "3370444  10.318517\n",
       "3370445  10.318517\n",
       "3370446  10.318517\n",
       "3370447  10.318517\n",
       "3370448  10.318517\n",
       "3370449  10.318517\n",
       "3370450  10.318517\n",
       "3370451  10.318517\n",
       "3370452  10.318517\n",
       "3370453  10.318517\n",
       "3370454  10.318517\n",
       "3370455  10.318517\n",
       "3370456  10.318517\n",
       "3370457  10.318517\n",
       "3370458  10.318517\n",
       "3370459  10.318517\n",
       "3370460  10.318517\n",
       "3370461  10.318517\n",
       "3370462  10.318517\n",
       "3370463  10.318517\n",
       "\n",
       "[3370464 rows x 1 columns]"
      ]
     },
     "execution_count": 105,
     "metadata": {},
     "output_type": "execute_result"
    }
   ],
   "source": [
    "y_pred_testset_df = pd.DataFrame(y_pred_testset)"
   ]
  },
  {
   "cell_type": "code",
   "execution_count": 50,
   "metadata": {
    "collapsed": false
   },
   "outputs": [],
   "source": [
    "y_pred_testset_df.index.name = 'id'"
   ]
  },
  {
   "cell_type": "code",
   "execution_count": 54,
   "metadata": {
    "collapsed": false
   },
   "outputs": [
    {
     "data": {
      "text/html": [
       "<div>\n",
       "<table border=\"1\" class=\"dataframe\">\n",
       "  <thead>\n",
       "    <tr style=\"text-align: right;\">\n",
       "      <th></th>\n",
       "      <th>unit_sales</th>\n",
       "    </tr>\n",
       "    <tr>\n",
       "      <th>id</th>\n",
       "      <th></th>\n",
       "    </tr>\n",
       "  </thead>\n",
       "  <tbody>\n",
       "    <tr>\n",
       "      <th>0</th>\n",
       "      <td>10.318517</td>\n",
       "    </tr>\n",
       "    <tr>\n",
       "      <th>1</th>\n",
       "      <td>10.318517</td>\n",
       "    </tr>\n",
       "    <tr>\n",
       "      <th>2</th>\n",
       "      <td>10.318517</td>\n",
       "    </tr>\n",
       "    <tr>\n",
       "      <th>3</th>\n",
       "      <td>10.318517</td>\n",
       "    </tr>\n",
       "    <tr>\n",
       "      <th>4</th>\n",
       "      <td>10.318517</td>\n",
       "    </tr>\n",
       "  </tbody>\n",
       "</table>\n",
       "</div>"
      ],
      "text/plain": [
       "    unit_sales\n",
       "id            \n",
       "0    10.318517\n",
       "1    10.318517\n",
       "2    10.318517\n",
       "3    10.318517\n",
       "4    10.318517"
      ]
     },
     "execution_count": 54,
     "metadata": {},
     "output_type": "execute_result"
    }
   ],
   "source": [
    "y_pred_testset_df.head()"
   ]
  },
  {
   "cell_type": "code",
   "execution_count": 53,
   "metadata": {
    "collapsed": false
   },
   "outputs": [],
   "source": [
    "y_pred_testset_df.columns = ['unit_sales']"
   ]
  },
  {
   "cell_type": "code",
   "execution_count": 55,
   "metadata": {
    "collapsed": false
   },
   "outputs": [],
   "source": [
    "y_pred_testset_df.to_csv('date_2016_predictions.csv')"
   ]
  },
  {
   "cell_type": "code",
   "execution_count": 69,
   "metadata": {
    "collapsed": false
   },
   "outputs": [
    {
     "data": {
      "text/plain": [
       "(3370464, 1)"
      ]
     },
     "execution_count": 69,
     "metadata": {},
     "output_type": "execute_result"
    }
   ],
   "source": [
    "y_pred_testset_df.shape"
   ]
  },
  {
   "cell_type": "code",
   "execution_count": null,
   "metadata": {
    "collapsed": true
   },
   "outputs": [],
   "source": []
  },
  {
   "cell_type": "code",
   "execution_count": 36,
   "metadata": {
    "collapsed": false
   },
   "outputs": [
    {
     "data": {
      "text/html": [
       "<div>\n",
       "<table border=\"1\" class=\"dataframe\">\n",
       "  <thead>\n",
       "    <tr style=\"text-align: right;\">\n",
       "      <th></th>\n",
       "      <th>id</th>\n",
       "      <th>unit_sales</th>\n",
       "    </tr>\n",
       "  </thead>\n",
       "  <tbody>\n",
       "    <tr>\n",
       "      <th>0</th>\n",
       "      <td>125497040</td>\n",
       "      <td>0</td>\n",
       "    </tr>\n",
       "    <tr>\n",
       "      <th>1</th>\n",
       "      <td>125497041</td>\n",
       "      <td>0</td>\n",
       "    </tr>\n",
       "    <tr>\n",
       "      <th>2</th>\n",
       "      <td>125497042</td>\n",
       "      <td>0</td>\n",
       "    </tr>\n",
       "    <tr>\n",
       "      <th>3</th>\n",
       "      <td>125497043</td>\n",
       "      <td>0</td>\n",
       "    </tr>\n",
       "    <tr>\n",
       "      <th>4</th>\n",
       "      <td>125497044</td>\n",
       "      <td>0</td>\n",
       "    </tr>\n",
       "  </tbody>\n",
       "</table>\n",
       "</div>"
      ],
      "text/plain": [
       "          id  unit_sales\n",
       "0  125497040           0\n",
       "1  125497041           0\n",
       "2  125497042           0\n",
       "3  125497043           0\n",
       "4  125497044           0"
      ]
     },
     "execution_count": 36,
     "metadata": {},
     "output_type": "execute_result"
    }
   ],
   "source": [
    "sample_submission.head()"
   ]
  },
  {
   "cell_type": "code",
   "execution_count": 114,
   "metadata": {
    "collapsed": false,
    "scrolled": true
   },
   "outputs": [
    {
     "data": {
      "text/html": [
       "<div>\n",
       "<table border=\"1\" class=\"dataframe\">\n",
       "  <thead>\n",
       "    <tr style=\"text-align: right;\">\n",
       "      <th></th>\n",
       "      <th>0</th>\n",
       "    </tr>\n",
       "  </thead>\n",
       "  <tbody>\n",
       "    <tr>\n",
       "      <th>0</th>\n",
       "      <td>10.318517</td>\n",
       "    </tr>\n",
       "    <tr>\n",
       "      <th>1</th>\n",
       "      <td>10.318517</td>\n",
       "    </tr>\n",
       "    <tr>\n",
       "      <th>2</th>\n",
       "      <td>10.318517</td>\n",
       "    </tr>\n",
       "    <tr>\n",
       "      <th>3</th>\n",
       "      <td>10.318517</td>\n",
       "    </tr>\n",
       "    <tr>\n",
       "      <th>4</th>\n",
       "      <td>10.318517</td>\n",
       "    </tr>\n",
       "    <tr>\n",
       "      <th>5</th>\n",
       "      <td>10.318517</td>\n",
       "    </tr>\n",
       "    <tr>\n",
       "      <th>6</th>\n",
       "      <td>10.318517</td>\n",
       "    </tr>\n",
       "    <tr>\n",
       "      <th>7</th>\n",
       "      <td>10.318517</td>\n",
       "    </tr>\n",
       "    <tr>\n",
       "      <th>8</th>\n",
       "      <td>10.318517</td>\n",
       "    </tr>\n",
       "    <tr>\n",
       "      <th>9</th>\n",
       "      <td>10.318517</td>\n",
       "    </tr>\n",
       "    <tr>\n",
       "      <th>10</th>\n",
       "      <td>10.318517</td>\n",
       "    </tr>\n",
       "    <tr>\n",
       "      <th>11</th>\n",
       "      <td>10.318517</td>\n",
       "    </tr>\n",
       "    <tr>\n",
       "      <th>12</th>\n",
       "      <td>10.318517</td>\n",
       "    </tr>\n",
       "    <tr>\n",
       "      <th>13</th>\n",
       "      <td>10.318517</td>\n",
       "    </tr>\n",
       "    <tr>\n",
       "      <th>14</th>\n",
       "      <td>10.318517</td>\n",
       "    </tr>\n",
       "    <tr>\n",
       "      <th>15</th>\n",
       "      <td>10.318517</td>\n",
       "    </tr>\n",
       "    <tr>\n",
       "      <th>16</th>\n",
       "      <td>10.318517</td>\n",
       "    </tr>\n",
       "    <tr>\n",
       "      <th>17</th>\n",
       "      <td>10.318517</td>\n",
       "    </tr>\n",
       "    <tr>\n",
       "      <th>18</th>\n",
       "      <td>10.318517</td>\n",
       "    </tr>\n",
       "    <tr>\n",
       "      <th>19</th>\n",
       "      <td>10.318517</td>\n",
       "    </tr>\n",
       "    <tr>\n",
       "      <th>20</th>\n",
       "      <td>10.318517</td>\n",
       "    </tr>\n",
       "    <tr>\n",
       "      <th>21</th>\n",
       "      <td>10.318517</td>\n",
       "    </tr>\n",
       "    <tr>\n",
       "      <th>22</th>\n",
       "      <td>10.318517</td>\n",
       "    </tr>\n",
       "    <tr>\n",
       "      <th>23</th>\n",
       "      <td>10.318517</td>\n",
       "    </tr>\n",
       "    <tr>\n",
       "      <th>24</th>\n",
       "      <td>10.318517</td>\n",
       "    </tr>\n",
       "    <tr>\n",
       "      <th>25</th>\n",
       "      <td>10.318517</td>\n",
       "    </tr>\n",
       "    <tr>\n",
       "      <th>26</th>\n",
       "      <td>10.318517</td>\n",
       "    </tr>\n",
       "    <tr>\n",
       "      <th>27</th>\n",
       "      <td>10.318517</td>\n",
       "    </tr>\n",
       "    <tr>\n",
       "      <th>28</th>\n",
       "      <td>10.318517</td>\n",
       "    </tr>\n",
       "    <tr>\n",
       "      <th>29</th>\n",
       "      <td>10.318517</td>\n",
       "    </tr>\n",
       "    <tr>\n",
       "      <th>...</th>\n",
       "      <td>...</td>\n",
       "    </tr>\n",
       "    <tr>\n",
       "      <th>3370434</th>\n",
       "      <td>10.318517</td>\n",
       "    </tr>\n",
       "    <tr>\n",
       "      <th>3370435</th>\n",
       "      <td>10.318517</td>\n",
       "    </tr>\n",
       "    <tr>\n",
       "      <th>3370436</th>\n",
       "      <td>10.318517</td>\n",
       "    </tr>\n",
       "    <tr>\n",
       "      <th>3370437</th>\n",
       "      <td>10.318517</td>\n",
       "    </tr>\n",
       "    <tr>\n",
       "      <th>3370438</th>\n",
       "      <td>10.318517</td>\n",
       "    </tr>\n",
       "    <tr>\n",
       "      <th>3370439</th>\n",
       "      <td>10.318517</td>\n",
       "    </tr>\n",
       "    <tr>\n",
       "      <th>3370440</th>\n",
       "      <td>10.318517</td>\n",
       "    </tr>\n",
       "    <tr>\n",
       "      <th>3370441</th>\n",
       "      <td>10.318517</td>\n",
       "    </tr>\n",
       "    <tr>\n",
       "      <th>3370442</th>\n",
       "      <td>10.318517</td>\n",
       "    </tr>\n",
       "    <tr>\n",
       "      <th>3370443</th>\n",
       "      <td>10.318517</td>\n",
       "    </tr>\n",
       "    <tr>\n",
       "      <th>3370444</th>\n",
       "      <td>10.318517</td>\n",
       "    </tr>\n",
       "    <tr>\n",
       "      <th>3370445</th>\n",
       "      <td>10.318517</td>\n",
       "    </tr>\n",
       "    <tr>\n",
       "      <th>3370446</th>\n",
       "      <td>10.318517</td>\n",
       "    </tr>\n",
       "    <tr>\n",
       "      <th>3370447</th>\n",
       "      <td>10.318517</td>\n",
       "    </tr>\n",
       "    <tr>\n",
       "      <th>3370448</th>\n",
       "      <td>10.318517</td>\n",
       "    </tr>\n",
       "    <tr>\n",
       "      <th>3370449</th>\n",
       "      <td>10.318517</td>\n",
       "    </tr>\n",
       "    <tr>\n",
       "      <th>3370450</th>\n",
       "      <td>10.318517</td>\n",
       "    </tr>\n",
       "    <tr>\n",
       "      <th>3370451</th>\n",
       "      <td>10.318517</td>\n",
       "    </tr>\n",
       "    <tr>\n",
       "      <th>3370452</th>\n",
       "      <td>10.318517</td>\n",
       "    </tr>\n",
       "    <tr>\n",
       "      <th>3370453</th>\n",
       "      <td>10.318517</td>\n",
       "    </tr>\n",
       "    <tr>\n",
       "      <th>3370454</th>\n",
       "      <td>10.318517</td>\n",
       "    </tr>\n",
       "    <tr>\n",
       "      <th>3370455</th>\n",
       "      <td>10.318517</td>\n",
       "    </tr>\n",
       "    <tr>\n",
       "      <th>3370456</th>\n",
       "      <td>10.318517</td>\n",
       "    </tr>\n",
       "    <tr>\n",
       "      <th>3370457</th>\n",
       "      <td>10.318517</td>\n",
       "    </tr>\n",
       "    <tr>\n",
       "      <th>3370458</th>\n",
       "      <td>10.318517</td>\n",
       "    </tr>\n",
       "    <tr>\n",
       "      <th>3370459</th>\n",
       "      <td>10.318517</td>\n",
       "    </tr>\n",
       "    <tr>\n",
       "      <th>3370460</th>\n",
       "      <td>10.318517</td>\n",
       "    </tr>\n",
       "    <tr>\n",
       "      <th>3370461</th>\n",
       "      <td>10.318517</td>\n",
       "    </tr>\n",
       "    <tr>\n",
       "      <th>3370462</th>\n",
       "      <td>10.318517</td>\n",
       "    </tr>\n",
       "    <tr>\n",
       "      <th>3370463</th>\n",
       "      <td>10.318517</td>\n",
       "    </tr>\n",
       "  </tbody>\n",
       "</table>\n",
       "<p>3370464 rows × 1 columns</p>\n",
       "</div>"
      ],
      "text/plain": [
       "                 0\n",
       "0        10.318517\n",
       "1        10.318517\n",
       "2        10.318517\n",
       "3        10.318517\n",
       "4        10.318517\n",
       "5        10.318517\n",
       "6        10.318517\n",
       "7        10.318517\n",
       "8        10.318517\n",
       "9        10.318517\n",
       "10       10.318517\n",
       "11       10.318517\n",
       "12       10.318517\n",
       "13       10.318517\n",
       "14       10.318517\n",
       "15       10.318517\n",
       "16       10.318517\n",
       "17       10.318517\n",
       "18       10.318517\n",
       "19       10.318517\n",
       "20       10.318517\n",
       "21       10.318517\n",
       "22       10.318517\n",
       "23       10.318517\n",
       "24       10.318517\n",
       "25       10.318517\n",
       "26       10.318517\n",
       "27       10.318517\n",
       "28       10.318517\n",
       "29       10.318517\n",
       "...            ...\n",
       "3370434  10.318517\n",
       "3370435  10.318517\n",
       "3370436  10.318517\n",
       "3370437  10.318517\n",
       "3370438  10.318517\n",
       "3370439  10.318517\n",
       "3370440  10.318517\n",
       "3370441  10.318517\n",
       "3370442  10.318517\n",
       "3370443  10.318517\n",
       "3370444  10.318517\n",
       "3370445  10.318517\n",
       "3370446  10.318517\n",
       "3370447  10.318517\n",
       "3370448  10.318517\n",
       "3370449  10.318517\n",
       "3370450  10.318517\n",
       "3370451  10.318517\n",
       "3370452  10.318517\n",
       "3370453  10.318517\n",
       "3370454  10.318517\n",
       "3370455  10.318517\n",
       "3370456  10.318517\n",
       "3370457  10.318517\n",
       "3370458  10.318517\n",
       "3370459  10.318517\n",
       "3370460  10.318517\n",
       "3370461  10.318517\n",
       "3370462  10.318517\n",
       "3370463  10.318517\n",
       "\n",
       "[3370464 rows x 1 columns]"
      ]
     },
     "execution_count": 114,
     "metadata": {},
     "output_type": "execute_result"
    }
   ],
   "source": [
    "y_pred_testset_df"
   ]
  },
  {
   "cell_type": "code",
   "execution_count": 125,
   "metadata": {
    "collapsed": false,
    "scrolled": true
   },
   "outputs": [
    {
     "data": {
      "text/html": [
       "<div>\n",
       "<table border=\"1\" class=\"dataframe\">\n",
       "  <thead>\n",
       "    <tr style=\"text-align: right;\">\n",
       "      <th></th>\n",
       "      <th>0</th>\n",
       "    </tr>\n",
       "  </thead>\n",
       "  <tbody>\n",
       "    <tr>\n",
       "      <th>0</th>\n",
       "      <td>10.318517</td>\n",
       "    </tr>\n",
       "    <tr>\n",
       "      <th>1</th>\n",
       "      <td>10.318517</td>\n",
       "    </tr>\n",
       "    <tr>\n",
       "      <th>2</th>\n",
       "      <td>10.318517</td>\n",
       "    </tr>\n",
       "    <tr>\n",
       "      <th>3</th>\n",
       "      <td>10.318517</td>\n",
       "    </tr>\n",
       "    <tr>\n",
       "      <th>4</th>\n",
       "      <td>10.318517</td>\n",
       "    </tr>\n",
       "    <tr>\n",
       "      <th>5</th>\n",
       "      <td>10.318517</td>\n",
       "    </tr>\n",
       "    <tr>\n",
       "      <th>6</th>\n",
       "      <td>10.318517</td>\n",
       "    </tr>\n",
       "    <tr>\n",
       "      <th>7</th>\n",
       "      <td>10.318517</td>\n",
       "    </tr>\n",
       "    <tr>\n",
       "      <th>8</th>\n",
       "      <td>10.318517</td>\n",
       "    </tr>\n",
       "    <tr>\n",
       "      <th>9</th>\n",
       "      <td>10.318517</td>\n",
       "    </tr>\n",
       "    <tr>\n",
       "      <th>10</th>\n",
       "      <td>10.318517</td>\n",
       "    </tr>\n",
       "    <tr>\n",
       "      <th>11</th>\n",
       "      <td>10.318517</td>\n",
       "    </tr>\n",
       "    <tr>\n",
       "      <th>12</th>\n",
       "      <td>10.318517</td>\n",
       "    </tr>\n",
       "    <tr>\n",
       "      <th>13</th>\n",
       "      <td>10.318517</td>\n",
       "    </tr>\n",
       "    <tr>\n",
       "      <th>14</th>\n",
       "      <td>10.318517</td>\n",
       "    </tr>\n",
       "    <tr>\n",
       "      <th>15</th>\n",
       "      <td>10.318517</td>\n",
       "    </tr>\n",
       "    <tr>\n",
       "      <th>16</th>\n",
       "      <td>10.318517</td>\n",
       "    </tr>\n",
       "    <tr>\n",
       "      <th>17</th>\n",
       "      <td>10.318517</td>\n",
       "    </tr>\n",
       "    <tr>\n",
       "      <th>18</th>\n",
       "      <td>10.318517</td>\n",
       "    </tr>\n",
       "    <tr>\n",
       "      <th>19</th>\n",
       "      <td>10.318517</td>\n",
       "    </tr>\n",
       "    <tr>\n",
       "      <th>20</th>\n",
       "      <td>10.318517</td>\n",
       "    </tr>\n",
       "    <tr>\n",
       "      <th>21</th>\n",
       "      <td>10.318517</td>\n",
       "    </tr>\n",
       "    <tr>\n",
       "      <th>22</th>\n",
       "      <td>10.318517</td>\n",
       "    </tr>\n",
       "    <tr>\n",
       "      <th>23</th>\n",
       "      <td>10.318517</td>\n",
       "    </tr>\n",
       "    <tr>\n",
       "      <th>24</th>\n",
       "      <td>10.318517</td>\n",
       "    </tr>\n",
       "    <tr>\n",
       "      <th>25</th>\n",
       "      <td>10.318517</td>\n",
       "    </tr>\n",
       "    <tr>\n",
       "      <th>26</th>\n",
       "      <td>10.318517</td>\n",
       "    </tr>\n",
       "    <tr>\n",
       "      <th>27</th>\n",
       "      <td>10.318517</td>\n",
       "    </tr>\n",
       "    <tr>\n",
       "      <th>28</th>\n",
       "      <td>10.318517</td>\n",
       "    </tr>\n",
       "    <tr>\n",
       "      <th>29</th>\n",
       "      <td>10.318517</td>\n",
       "    </tr>\n",
       "    <tr>\n",
       "      <th>...</th>\n",
       "      <td>...</td>\n",
       "    </tr>\n",
       "    <tr>\n",
       "      <th>3370434</th>\n",
       "      <td>10.318517</td>\n",
       "    </tr>\n",
       "    <tr>\n",
       "      <th>3370435</th>\n",
       "      <td>10.318517</td>\n",
       "    </tr>\n",
       "    <tr>\n",
       "      <th>3370436</th>\n",
       "      <td>10.318517</td>\n",
       "    </tr>\n",
       "    <tr>\n",
       "      <th>3370437</th>\n",
       "      <td>10.318517</td>\n",
       "    </tr>\n",
       "    <tr>\n",
       "      <th>3370438</th>\n",
       "      <td>10.318517</td>\n",
       "    </tr>\n",
       "    <tr>\n",
       "      <th>3370439</th>\n",
       "      <td>10.318517</td>\n",
       "    </tr>\n",
       "    <tr>\n",
       "      <th>3370440</th>\n",
       "      <td>10.318517</td>\n",
       "    </tr>\n",
       "    <tr>\n",
       "      <th>3370441</th>\n",
       "      <td>10.318517</td>\n",
       "    </tr>\n",
       "    <tr>\n",
       "      <th>3370442</th>\n",
       "      <td>10.318517</td>\n",
       "    </tr>\n",
       "    <tr>\n",
       "      <th>3370443</th>\n",
       "      <td>10.318517</td>\n",
       "    </tr>\n",
       "    <tr>\n",
       "      <th>3370444</th>\n",
       "      <td>10.318517</td>\n",
       "    </tr>\n",
       "    <tr>\n",
       "      <th>3370445</th>\n",
       "      <td>10.318517</td>\n",
       "    </tr>\n",
       "    <tr>\n",
       "      <th>3370446</th>\n",
       "      <td>10.318517</td>\n",
       "    </tr>\n",
       "    <tr>\n",
       "      <th>3370447</th>\n",
       "      <td>10.318517</td>\n",
       "    </tr>\n",
       "    <tr>\n",
       "      <th>3370448</th>\n",
       "      <td>10.318517</td>\n",
       "    </tr>\n",
       "    <tr>\n",
       "      <th>3370449</th>\n",
       "      <td>10.318517</td>\n",
       "    </tr>\n",
       "    <tr>\n",
       "      <th>3370450</th>\n",
       "      <td>10.318517</td>\n",
       "    </tr>\n",
       "    <tr>\n",
       "      <th>3370451</th>\n",
       "      <td>10.318517</td>\n",
       "    </tr>\n",
       "    <tr>\n",
       "      <th>3370452</th>\n",
       "      <td>10.318517</td>\n",
       "    </tr>\n",
       "    <tr>\n",
       "      <th>3370453</th>\n",
       "      <td>10.318517</td>\n",
       "    </tr>\n",
       "    <tr>\n",
       "      <th>3370454</th>\n",
       "      <td>10.318517</td>\n",
       "    </tr>\n",
       "    <tr>\n",
       "      <th>3370455</th>\n",
       "      <td>10.318517</td>\n",
       "    </tr>\n",
       "    <tr>\n",
       "      <th>3370456</th>\n",
       "      <td>10.318517</td>\n",
       "    </tr>\n",
       "    <tr>\n",
       "      <th>3370457</th>\n",
       "      <td>10.318517</td>\n",
       "    </tr>\n",
       "    <tr>\n",
       "      <th>3370458</th>\n",
       "      <td>10.318517</td>\n",
       "    </tr>\n",
       "    <tr>\n",
       "      <th>3370459</th>\n",
       "      <td>10.318517</td>\n",
       "    </tr>\n",
       "    <tr>\n",
       "      <th>3370460</th>\n",
       "      <td>10.318517</td>\n",
       "    </tr>\n",
       "    <tr>\n",
       "      <th>3370461</th>\n",
       "      <td>10.318517</td>\n",
       "    </tr>\n",
       "    <tr>\n",
       "      <th>3370462</th>\n",
       "      <td>10.318517</td>\n",
       "    </tr>\n",
       "    <tr>\n",
       "      <th>3370463</th>\n",
       "      <td>10.318517</td>\n",
       "    </tr>\n",
       "  </tbody>\n",
       "</table>\n",
       "<p>3370464 rows × 1 columns</p>\n",
       "</div>"
      ],
      "text/plain": [
       "                 0\n",
       "0        10.318517\n",
       "1        10.318517\n",
       "2        10.318517\n",
       "3        10.318517\n",
       "4        10.318517\n",
       "5        10.318517\n",
       "6        10.318517\n",
       "7        10.318517\n",
       "8        10.318517\n",
       "9        10.318517\n",
       "10       10.318517\n",
       "11       10.318517\n",
       "12       10.318517\n",
       "13       10.318517\n",
       "14       10.318517\n",
       "15       10.318517\n",
       "16       10.318517\n",
       "17       10.318517\n",
       "18       10.318517\n",
       "19       10.318517\n",
       "20       10.318517\n",
       "21       10.318517\n",
       "22       10.318517\n",
       "23       10.318517\n",
       "24       10.318517\n",
       "25       10.318517\n",
       "26       10.318517\n",
       "27       10.318517\n",
       "28       10.318517\n",
       "29       10.318517\n",
       "...            ...\n",
       "3370434  10.318517\n",
       "3370435  10.318517\n",
       "3370436  10.318517\n",
       "3370437  10.318517\n",
       "3370438  10.318517\n",
       "3370439  10.318517\n",
       "3370440  10.318517\n",
       "3370441  10.318517\n",
       "3370442  10.318517\n",
       "3370443  10.318517\n",
       "3370444  10.318517\n",
       "3370445  10.318517\n",
       "3370446  10.318517\n",
       "3370447  10.318517\n",
       "3370448  10.318517\n",
       "3370449  10.318517\n",
       "3370450  10.318517\n",
       "3370451  10.318517\n",
       "3370452  10.318517\n",
       "3370453  10.318517\n",
       "3370454  10.318517\n",
       "3370455  10.318517\n",
       "3370456  10.318517\n",
       "3370457  10.318517\n",
       "3370458  10.318517\n",
       "3370459  10.318517\n",
       "3370460  10.318517\n",
       "3370461  10.318517\n",
       "3370462  10.318517\n",
       "3370463  10.318517\n",
       "\n",
       "[3370464 rows x 1 columns]"
      ]
     },
     "execution_count": 125,
     "metadata": {},
     "output_type": "execute_result"
    }
   ],
   "source": [
    "y_pred_testset_df"
   ]
  },
  {
   "cell_type": "code",
   "execution_count": 126,
   "metadata": {
    "collapsed": false
   },
   "outputs": [],
   "source": [
    "csvfile = pd.DataFrame({'id':pd.DataFrame(test.values)[0].astype(int), \n",
    "                       'unit_sales':y_pred_testset_df[0]}).set_index('id')\n",
    "csvfile.to_csv('date_2016_predictions_3.csv') "
   ]
  },
  {
   "cell_type": "code",
   "execution_count": 128,
   "metadata": {
    "collapsed": false
   },
   "outputs": [
    {
     "data": {
      "text/plain": [
       "(3370464, 1)"
      ]
     },
     "execution_count": 128,
     "metadata": {},
     "output_type": "execute_result"
    }
   ],
   "source": [
    "csvfile.shape"
   ]
  },
  {
   "cell_type": "code",
   "execution_count": 106,
   "metadata": {
    "collapsed": false
   },
   "outputs": [
    {
     "data": {
      "text/html": [
       "<div>\n",
       "<table border=\"1\" class=\"dataframe\">\n",
       "  <thead>\n",
       "    <tr style=\"text-align: right;\">\n",
       "      <th></th>\n",
       "      <th>id</th>\n",
       "      <th>unit_sales</th>\n",
       "    </tr>\n",
       "  </thead>\n",
       "  <tbody>\n",
       "    <tr>\n",
       "      <th>0</th>\n",
       "      <td>125497040</td>\n",
       "      <td>0</td>\n",
       "    </tr>\n",
       "    <tr>\n",
       "      <th>1</th>\n",
       "      <td>125497041</td>\n",
       "      <td>0</td>\n",
       "    </tr>\n",
       "    <tr>\n",
       "      <th>2</th>\n",
       "      <td>125497042</td>\n",
       "      <td>0</td>\n",
       "    </tr>\n",
       "    <tr>\n",
       "      <th>3</th>\n",
       "      <td>125497043</td>\n",
       "      <td>0</td>\n",
       "    </tr>\n",
       "    <tr>\n",
       "      <th>4</th>\n",
       "      <td>125497044</td>\n",
       "      <td>0</td>\n",
       "    </tr>\n",
       "  </tbody>\n",
       "</table>\n",
       "</div>"
      ],
      "text/plain": [
       "          id  unit_sales\n",
       "0  125497040           0\n",
       "1  125497041           0\n",
       "2  125497042           0\n",
       "3  125497043           0\n",
       "4  125497044           0"
      ]
     },
     "execution_count": 106,
     "metadata": {},
     "output_type": "execute_result"
    }
   ],
   "source": [
    "sample_submission.head()"
   ]
  },
  {
   "cell_type": "code",
   "execution_count": null,
   "metadata": {
    "collapsed": true
   },
   "outputs": [],
   "source": []
  },
  {
   "cell_type": "code",
   "execution_count": null,
   "metadata": {
    "collapsed": true
   },
   "outputs": [],
   "source": []
  },
  {
   "cell_type": "code",
   "execution_count": null,
   "metadata": {
    "collapsed": false
   },
   "outputs": [],
   "source": []
  },
  {
   "cell_type": "code",
   "execution_count": null,
   "metadata": {
    "collapsed": false
   },
   "outputs": [],
   "source": [
    "#Impute Missing Values -- did not work for transactions data \n",
    "from sklearn.preprocessing import Imputer \n",
    "imputer = Imputer(missing_values='NaN', strategy = 'most_frequent', axis = 0)\n",
    "imputer = imputer.fit(X.iloc[:,2])\n",
    "X.iloc[:,2].values = imputer.transform(X.iloc[:,2].values)"
   ]
  },
  {
   "cell_type": "code",
   "execution_count": 17,
   "metadata": {
    "collapsed": false,
    "scrolled": true
   },
   "outputs": [
    {
     "data": {
      "text/plain": [
       "502331     19092\n",
       "314384     19082\n",
       "1463810    19062\n",
       "364606     19055\n",
       "323013     18988\n",
       "222879     18981\n",
       "265559     18967\n",
       "1162382    18960\n",
       "414353     18892\n",
       "1463814    18876\n",
       "1958216    18876\n",
       "1036689    18865\n",
       "1463855    18850\n",
       "273528     18794\n",
       "1146795    18765\n",
       "1958181    18759\n",
       "559870     18755\n",
       "564533     18754\n",
       "1463860    18745\n",
       "2010511    18740\n",
       "847863     18722\n",
       "364724     18674\n",
       "1459058    18672\n",
       "1464217    18671\n",
       "261052     18649\n",
       "885543     18629\n",
       "1052563    18628\n",
       "514144     18611\n",
       "587069     18560\n",
       "2026801    18554\n",
       "           ...  \n",
       "2081095       40\n",
       "2081139       37\n",
       "2108569       35\n",
       "2105347       34\n",
       "2057231       33\n",
       "2068536       32\n",
       "2101795       27\n",
       "2103250       24\n",
       "2028217       24\n",
       "2111870       23\n",
       "1976284       23\n",
       "2112404       20\n",
       "2099230       20\n",
       "2090125       19\n",
       "2076761       19\n",
       "2081175       19\n",
       "2042947       15\n",
       "2088860       12\n",
       "2003392       11\n",
       "2089276       11\n",
       "638327        10\n",
       "2043198       10\n",
       "2075733       10\n",
       "2108843        9\n",
       "2058907        8\n",
       "2091318        8\n",
       "2028403        6\n",
       "2056549        5\n",
       "2042314        4\n",
       "1047793        2\n",
       "Name: item_nbr, dtype: int64"
      ]
     },
     "execution_count": 17,
     "metadata": {},
     "output_type": "execute_result"
    }
   ],
   "source": [
    "train['item_nbr'].value_counts()"
   ]
  },
  {
   "cell_type": "code",
   "execution_count": 19,
   "metadata": {
    "collapsed": false
   },
   "outputs": [
    {
     "data": {
      "text/plain": [
       "(4100, 4)"
      ]
     },
     "execution_count": 19,
     "metadata": {},
     "output_type": "execute_result"
    }
   ],
   "source": [
    "items.shape"
   ]
  },
  {
   "cell_type": "code",
   "execution_count": 13,
   "metadata": {
    "collapsed": false
   },
   "outputs": [
    {
     "data": {
      "text/html": [
       "<div>\n",
       "<table border=\"1\" class=\"dataframe\">\n",
       "  <thead>\n",
       "    <tr style=\"text-align: right;\">\n",
       "      <th></th>\n",
       "      <th>id</th>\n",
       "      <th>date</th>\n",
       "      <th>store_nbr</th>\n",
       "      <th>item_nbr</th>\n",
       "      <th>unit_sales</th>\n",
       "      <th>onpromotion</th>\n",
       "    </tr>\n",
       "  </thead>\n",
       "  <tbody>\n",
       "    <tr>\n",
       "      <th>66458908</th>\n",
       "      <td>66458908</td>\n",
       "      <td>2016-01-01</td>\n",
       "      <td>25</td>\n",
       "      <td>105574</td>\n",
       "      <td>12.0</td>\n",
       "      <td>False</td>\n",
       "    </tr>\n",
       "    <tr>\n",
       "      <th>66458909</th>\n",
       "      <td>66458909</td>\n",
       "      <td>2016-01-01</td>\n",
       "      <td>25</td>\n",
       "      <td>105575</td>\n",
       "      <td>9.0</td>\n",
       "      <td>False</td>\n",
       "    </tr>\n",
       "    <tr>\n",
       "      <th>66458910</th>\n",
       "      <td>66458910</td>\n",
       "      <td>2016-01-01</td>\n",
       "      <td>25</td>\n",
       "      <td>105857</td>\n",
       "      <td>3.0</td>\n",
       "      <td>False</td>\n",
       "    </tr>\n",
       "    <tr>\n",
       "      <th>66458911</th>\n",
       "      <td>66458911</td>\n",
       "      <td>2016-01-01</td>\n",
       "      <td>25</td>\n",
       "      <td>108634</td>\n",
       "      <td>3.0</td>\n",
       "      <td>False</td>\n",
       "    </tr>\n",
       "    <tr>\n",
       "      <th>66458912</th>\n",
       "      <td>66458912</td>\n",
       "      <td>2016-01-01</td>\n",
       "      <td>25</td>\n",
       "      <td>108701</td>\n",
       "      <td>2.0</td>\n",
       "      <td>True</td>\n",
       "    </tr>\n",
       "  </tbody>\n",
       "</table>\n",
       "</div>"
      ],
      "text/plain": [
       "                id       date  store_nbr  item_nbr  unit_sales onpromotion\n",
       "66458908  66458908 2016-01-01         25    105574        12.0       False\n",
       "66458909  66458909 2016-01-01         25    105575         9.0       False\n",
       "66458910  66458910 2016-01-01         25    105857         3.0       False\n",
       "66458911  66458911 2016-01-01         25    108634         3.0       False\n",
       "66458912  66458912 2016-01-01         25    108701         2.0        True"
      ]
     },
     "execution_count": 13,
     "metadata": {},
     "output_type": "execute_result"
    }
   ],
   "source": [
    "train.head()"
   ]
  },
  {
   "cell_type": "code",
   "execution_count": 20,
   "metadata": {
    "collapsed": true
   },
   "outputs": [],
   "source": [
    "train_groupbyid = train.groupby('item_nbr',as_index = False).sum()"
   ]
  },
  {
   "cell_type": "code",
   "execution_count": 22,
   "metadata": {
    "collapsed": false
   },
   "outputs": [
    {
     "data": {
      "text/html": [
       "<div>\n",
       "<table border=\"1\" class=\"dataframe\">\n",
       "  <thead>\n",
       "    <tr style=\"text-align: right;\">\n",
       "      <th></th>\n",
       "      <th>item_nbr</th>\n",
       "      <th>unit_sales</th>\n",
       "    </tr>\n",
       "  </thead>\n",
       "  <tbody>\n",
       "    <tr>\n",
       "      <th>0</th>\n",
       "      <td>99197</td>\n",
       "      <td>4196.0</td>\n",
       "    </tr>\n",
       "    <tr>\n",
       "      <th>1</th>\n",
       "      <td>103501</td>\n",
       "      <td>38330.0</td>\n",
       "    </tr>\n",
       "    <tr>\n",
       "      <th>2</th>\n",
       "      <td>103520</td>\n",
       "      <td>43127.0</td>\n",
       "    </tr>\n",
       "    <tr>\n",
       "      <th>3</th>\n",
       "      <td>103665</td>\n",
       "      <td>47728.0</td>\n",
       "    </tr>\n",
       "    <tr>\n",
       "      <th>4</th>\n",
       "      <td>105574</td>\n",
       "      <td>124787.0</td>\n",
       "    </tr>\n",
       "  </tbody>\n",
       "</table>\n",
       "</div>"
      ],
      "text/plain": [
       "   item_nbr  unit_sales\n",
       "0     99197      4196.0\n",
       "1    103501     38330.0\n",
       "2    103520     43127.0\n",
       "3    103665     47728.0\n",
       "4    105574    124787.0"
      ]
     },
     "execution_count": 22,
     "metadata": {},
     "output_type": "execute_result"
    }
   ],
   "source": [
    "train_groupbyid.loc[:,['item_nbr','unit_sales']].head()"
   ]
  },
  {
   "cell_type": "code",
   "execution_count": 24,
   "metadata": {
    "collapsed": false,
    "scrolled": true
   },
   "outputs": [
    {
     "data": {
      "text/plain": [
       "317285     864\n",
       "2123410    864\n",
       "322095     864\n",
       "264752     864\n",
       "264753     864\n",
       "1333307    864\n",
       "1386506    864\n",
       "264751     864\n",
       "2048323    864\n",
       "903955     864\n",
       "1958166    864\n",
       "1151128    864\n",
       "2033992    864\n",
       "1388559    864\n",
       "1972587    864\n",
       "371218     864\n",
       "1726956    864\n",
       "1583522    864\n",
       "1958171    864\n",
       "1583523    864\n",
       "664545     864\n",
       "1988975    864\n",
       "1583526    864\n",
       "1958175    864\n",
       "1239294    864\n",
       "1400846    864\n",
       "268834     864\n",
       "664539     864\n",
       "838406     864\n",
       "633735     864\n",
       "          ... \n",
       "1333225    864\n",
       "406965     864\n",
       "853195     864\n",
       "2113914    864\n",
       "1417154    864\n",
       "849135     864\n",
       "1047695    864\n",
       "1458088    864\n",
       "1047696    864\n",
       "849136     864\n",
       "1167188    864\n",
       "849139     864\n",
       "1047698    864\n",
       "853196     864\n",
       "1047699    864\n",
       "1988256    864\n",
       "1047707    864\n",
       "452022     864\n",
       "1047702    864\n",
       "849142     864\n",
       "1047703    864\n",
       "1464237    864\n",
       "314879     864\n",
       "1047705    864\n",
       "1464239    864\n",
       "265700     864\n",
       "464263     864\n",
       "1464238    864\n",
       "378332     864\n",
       "1157685    864\n",
       "Name: item_nbr, dtype: int64"
      ]
     },
     "execution_count": 24,
     "metadata": {},
     "output_type": "execute_result"
    }
   ],
   "source": [
    "test['item_nbr'].value_counts()"
   ]
  },
  {
   "cell_type": "code",
   "execution_count": null,
   "metadata": {
    "collapsed": true
   },
   "outputs": [],
   "source": []
  }
 ],
 "metadata": {
  "anaconda-cloud": {},
  "kernelspec": {
   "display_name": "Python [conda root]",
   "language": "python",
   "name": "conda-root-py"
  },
  "language_info": {
   "codemirror_mode": {
    "name": "ipython",
    "version": 3
   },
   "file_extension": ".py",
   "mimetype": "text/x-python",
   "name": "python",
   "nbconvert_exporter": "python",
   "pygments_lexer": "ipython3",
   "version": "3.5.2"
  }
 },
 "nbformat": 4,
 "nbformat_minor": 1
}
